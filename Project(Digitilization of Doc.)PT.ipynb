{
 "cells": [
  {
   "cell_type": "markdown",
   "id": "fe6a84e9",
   "metadata": {},
   "source": [
    "# Digitilization of Document"
   ]
  },
  {
   "cell_type": "markdown",
   "id": "429ecdfb",
   "metadata": {},
   "source": [
    "### Project:"
   ]
  },
  {
   "cell_type": "code",
   "execution_count": 4,
   "id": "a4bbf0e1",
   "metadata": {},
   "outputs": [],
   "source": [
    "import pytesseract\n",
    "import pandas as pd\n",
    "import numpy as np"
   ]
  },
  {
   "cell_type": "code",
   "execution_count": 5,
   "id": "08f65c7a",
   "metadata": {},
   "outputs": [
    {
     "data": {
      "text/plain": [
       "['.ipynb_checkpoints',\n",
       " 'aadhar.jpg',\n",
       " 'aadhar1.jpg',\n",
       " 'aadhar11_details.csv',\n",
       " 'aadhar2.jpg',\n",
       " 'aadhar3.jpg',\n",
       " 'aadhar4.jpg',\n",
       " 'aadhar_details.csv',\n",
       " 'demo.py',\n",
       " 'Harry Potter and The Sorcerer’s Stone.pdf',\n",
       " 'pan1.jpg',\n",
       " 'pan2.jpg',\n",
       " 'pan3.jpg',\n",
       " 'pan4.jpg',\n",
       " 'pan5.jpg',\n",
       " 'pan_details.csv',\n",
       " 'Practice.ipynb',\n",
       " 'salary.gif',\n",
       " 'salary1.jpg',\n",
       " 'salary_details.csv',\n",
       " 'the-adventures-of-tom-sawyer-mark-twain.pdf',\n",
       " 'Untitled.ipynb',\n",
       " 'Untitled1.ipynb',\n",
       " 'VehicleProject.ipynb',\n",
       " 'Vehicle_doc.csv',\n",
       " 'YAYATI-Marathi.pdf']"
      ]
     },
     "execution_count": 5,
     "metadata": {},
     "output_type": "execute_result"
    }
   ],
   "source": [
    "import os\n",
    "lst = os.listdir(os.getcwd())\n",
    "lst"
   ]
  },
  {
   "cell_type": "markdown",
   "id": "a0054aa5",
   "metadata": {},
   "source": [
    "# Project 1"
   ]
  },
  {
   "cell_type": "markdown",
   "id": "7b0b90b8",
   "metadata": {},
   "source": [
    "## aadhar card details"
   ]
  },
  {
   "cell_type": "code",
   "execution_count": 6,
   "id": "1db6507d",
   "metadata": {
    "scrolled": true
   },
   "outputs": [
    {
     "name": "stdout",
     "output_type": "stream",
     "text": [
      "Government of India Srrurz\n",
      "\n",
      "Gaurav Nivrutti Dond\n",
      "\n",
      "seat fat / DOB: 06/10/2000\n",
      "qea/ Male\n",
      "\n",
      "|\n",
      "\n",
      "Issue Date. 02/01/2014\n",
      "\n",
      "6295 5497 9356\n",
      "\n",
      "ART HUN, ALT Ved\n",
      "\n"
     ]
    }
   ],
   "source": [
    "path = r\"C:\\Users\\GAURAV DOND\\AppData\\Local\\Programs\\Tesseract-OCR\\tesseract.exe\"\n",
    "file_path = r\"aadhar.jpg\"  \n",
    "pytesseract.pytesseract.tesseract_cmd = path\n",
    "text = pytesseract.image_to_string(file_path)\n",
    "print(text)"
   ]
  },
  {
   "cell_type": "code",
   "execution_count": 7,
   "id": "afa11e2d",
   "metadata": {
    "scrolled": true
   },
   "outputs": [
    {
     "name": "stdout",
     "output_type": "stream",
     "text": [
      "Government of India Srrurz\n",
      "Gaurav Nivrutti Dond\n",
      "seat fat / DOB: 06/10/2000\n",
      "qea/ Male\n",
      "|\n",
      "Issue Date. 02/01/2014\n",
      "6295 5497 9356\n",
      "ART HUN, ALT Ved\n",
      "\n"
     ]
    }
   ],
   "source": [
    "result=re.sub(\"\\n+\",\"\\n\",text)\n",
    "print(result)"
   ]
  },
  {
   "cell_type": "code",
   "execution_count": 8,
   "id": "f7411cde",
   "metadata": {},
   "outputs": [],
   "source": [
    "import re"
   ]
  },
  {
   "cell_type": "code",
   "execution_count": 9,
   "id": "73616496",
   "metadata": {},
   "outputs": [
    {
     "data": {
      "text/plain": [
       "<re.Match object; span=(115, 129), match='6295 5497 9356'>"
      ]
     },
     "execution_count": 9,
     "metadata": {},
     "output_type": "execute_result"
    }
   ],
   "source": [
    "pattern_aadhar_no = re.compile(r\"\\d{4}\\s\\d{4}\\s\\d{4}\")\n",
    "pattern_aadhar_no.search(text)"
   ]
  },
  {
   "cell_type": "code",
   "execution_count": 10,
   "id": "dac13d2a",
   "metadata": {},
   "outputs": [
    {
     "data": {
      "text/plain": [
       "'6295 5497 9356'"
      ]
     },
     "execution_count": 10,
     "metadata": {},
     "output_type": "execute_result"
    }
   ],
   "source": [
    "def get_aadhar_details(text):\n",
    "\n",
    "    pattern_aadhar_no = re.compile(r\"\\d{4}\\s\\d{4}\\s\\d{4}\")\n",
    "    \n",
    "    aadhar_no = pattern_aadhar_no.search(text).group()\n",
    "    \n",
    "    return aadhar_no\n",
    "\n",
    "get_aadhar_details(text)"
   ]
  },
  {
   "cell_type": "code",
   "execution_count": 11,
   "id": "087918b4",
   "metadata": {},
   "outputs": [],
   "source": [
    "aadhar_no = get_aadhar_details(text)"
   ]
  },
  {
   "cell_type": "code",
   "execution_count": 12,
   "id": "d6e9bd7c",
   "metadata": {},
   "outputs": [],
   "source": [
    "import pandas as pd"
   ]
  },
  {
   "cell_type": "code",
   "execution_count": 13,
   "id": "bae0a4de",
   "metadata": {
    "scrolled": true
   },
   "outputs": [
    {
     "data": {
      "text/html": [
       "<div>\n",
       "<style scoped>\n",
       "    .dataframe tbody tr th:only-of-type {\n",
       "        vertical-align: middle;\n",
       "    }\n",
       "\n",
       "    .dataframe tbody tr th {\n",
       "        vertical-align: top;\n",
       "    }\n",
       "\n",
       "    .dataframe thead th {\n",
       "        text-align: right;\n",
       "    }\n",
       "</style>\n",
       "<table border=\"1\" class=\"dataframe\">\n",
       "  <thead>\n",
       "    <tr style=\"text-align: right;\">\n",
       "      <th></th>\n",
       "      <th>AADHAR NO</th>\n",
       "    </tr>\n",
       "  </thead>\n",
       "  <tbody>\n",
       "    <tr>\n",
       "      <th>0</th>\n",
       "      <td>6295 5497 9356</td>\n",
       "    </tr>\n",
       "  </tbody>\n",
       "</table>\n",
       "</div>"
      ],
      "text/plain": [
       "        AADHAR NO\n",
       "0  6295 5497 9356"
      ]
     },
     "execution_count": 13,
     "metadata": {},
     "output_type": "execute_result"
    }
   ],
   "source": [
    "dict1 = {\"AADHAR NO\":[None]}\n",
    "df = pd.DataFrame(dict1)\n",
    "df[\"AADHAR NO\"] = aadhar_no\n",
    "df"
   ]
  },
  {
   "cell_type": "code",
   "execution_count": null,
   "id": "ca95d980",
   "metadata": {},
   "outputs": [],
   "source": []
  },
  {
   "cell_type": "markdown",
   "id": "276d756a",
   "metadata": {},
   "source": [
    "## Pan Card Details"
   ]
  },
  {
   "cell_type": "code",
   "execution_count": 14,
   "id": "ab4a0d3a",
   "metadata": {
    "scrolled": false
   },
   "outputs": [
    {
     "name": "stdout",
     "output_type": "stream",
     "text": [
      "INCOMETAX DEPARTMENT <%= © GOVT. OF INDIA\n",
      "RAHUL GUPTA\n",
      "SURESH GUPTA\n",
      "\n",
      "23/11/1974\n",
      "Permanent Account Number\n",
      "ABCDE1234F\n",
      "\n",
      "SAMPLE - IMMIHELP.COM\n",
      "\n",
      "Signature\n",
      "\n",
      "\n"
     ]
    }
   ],
   "source": [
    "path = r\"C:\\Users\\GAURAV DOND\\AppData\\Local\\Programs\\Tesseract-OCR\\tesseract.exe\"\n",
    "file_path = r\"pan1.jpg\"  \n",
    "pytesseract.pytesseract.tesseract_cmd = path\n",
    "text = pytesseract.image_to_string(file_path)\n",
    "print(text)"
   ]
  },
  {
   "cell_type": "code",
   "execution_count": 15,
   "id": "23ba2a4d",
   "metadata": {},
   "outputs": [
    {
     "name": "stdout",
     "output_type": "stream",
     "text": [
      "INCOMETAX DEPARTMENT <%= © GOVT. OF INDIA\n",
      "RAHUL GUPTA\n",
      "SURESH GUPTA\n",
      "23/11/1974\n",
      "Permanent Account Number\n",
      "ABCDE1234F\n",
      "SAMPLE - IMMIHELP.COM\n",
      "Signature\n",
      "\n"
     ]
    }
   ],
   "source": [
    "result2=re.sub(\"\\n+\",\"\\n\",text)\n",
    "print(result2)"
   ]
  },
  {
   "cell_type": "code",
   "execution_count": 16,
   "id": "3dc2de53",
   "metadata": {},
   "outputs": [],
   "source": [
    "import re"
   ]
  },
  {
   "cell_type": "code",
   "execution_count": 17,
   "id": "262159fa",
   "metadata": {},
   "outputs": [
    {
     "data": {
      "text/plain": [
       "<re.Match object; span=(104, 114), match='ABCDE1234F'>"
      ]
     },
     "execution_count": 17,
     "metadata": {},
     "output_type": "execute_result"
    }
   ],
   "source": [
    "pattern_pan_no = re.compile(r\"\\D{5}\\d{4}\\D{1}\")\n",
    "pattern_pan_no.search(text)"
   ]
  },
  {
   "cell_type": "code",
   "execution_count": 18,
   "id": "217ce327",
   "metadata": {},
   "outputs": [
    {
     "data": {
      "text/plain": [
       "<re.Match object; span=(104, 114), match='ABCDE1234F'>"
      ]
     },
     "execution_count": 18,
     "metadata": {},
     "output_type": "execute_result"
    }
   ],
   "source": [
    "pattern_dob = re.compile(r\"\\D{5}\\d{4}\\D{1}\")\n",
    "pattern_dob.search(text)"
   ]
  },
  {
   "cell_type": "code",
   "execution_count": 19,
   "id": "e4554956",
   "metadata": {},
   "outputs": [
    {
     "data": {
      "text/plain": [
       "('ABCDE1234F', '23/11/1974')"
      ]
     },
     "execution_count": 19,
     "metadata": {},
     "output_type": "execute_result"
    }
   ],
   "source": [
    "def get_pan_details(text):\n",
    "\n",
    "    pattern_pan_no = re.compile(r\"\\D{5}\\d{4}\\D{1}\")\n",
    "    pattern_dob = re.compile(r\"\\d{1,2}/\\d{1,2}/\\d{2,4}\")\n",
    "    \n",
    "    pan_no = pattern_pan_no.search(text).group()\n",
    "    dob = pattern_dob.search(text).group()\n",
    "        \n",
    "    return pan_no,dob\n",
    "\n",
    "get_pan_details(text)"
   ]
  },
  {
   "cell_type": "code",
   "execution_count": 20,
   "id": "0cb7e7a6",
   "metadata": {},
   "outputs": [],
   "source": [
    "pan_no,dob = get_pan_details(text)"
   ]
  },
  {
   "cell_type": "code",
   "execution_count": 21,
   "id": "79202c74",
   "metadata": {},
   "outputs": [],
   "source": [
    "import pandas as pd"
   ]
  },
  {
   "cell_type": "code",
   "execution_count": 22,
   "id": "4acae232",
   "metadata": {},
   "outputs": [
    {
     "data": {
      "text/html": [
       "<div>\n",
       "<style scoped>\n",
       "    .dataframe tbody tr th:only-of-type {\n",
       "        vertical-align: middle;\n",
       "    }\n",
       "\n",
       "    .dataframe tbody tr th {\n",
       "        vertical-align: top;\n",
       "    }\n",
       "\n",
       "    .dataframe thead th {\n",
       "        text-align: right;\n",
       "    }\n",
       "</style>\n",
       "<table border=\"1\" class=\"dataframe\">\n",
       "  <thead>\n",
       "    <tr style=\"text-align: right;\">\n",
       "      <th></th>\n",
       "      <th>PAN NO</th>\n",
       "      <th>DOB</th>\n",
       "    </tr>\n",
       "  </thead>\n",
       "  <tbody>\n",
       "    <tr>\n",
       "      <th>0</th>\n",
       "      <td>ABCDE1234F</td>\n",
       "      <td>23/11/1974</td>\n",
       "    </tr>\n",
       "  </tbody>\n",
       "</table>\n",
       "</div>"
      ],
      "text/plain": [
       "       PAN NO         DOB\n",
       "0  ABCDE1234F  23/11/1974"
      ]
     },
     "execution_count": 22,
     "metadata": {},
     "output_type": "execute_result"
    }
   ],
   "source": [
    "dict1 = {\"PAN NO\":[None],\"DOB\":[None]}\n",
    "df = pd.DataFrame(dict1)\n",
    "df[\"PAN NO\"] = pan_no\n",
    "df[\"DOB\"] = dob\n",
    "df"
   ]
  },
  {
   "cell_type": "code",
   "execution_count": null,
   "id": "28dfeee6",
   "metadata": {},
   "outputs": [],
   "source": []
  },
  {
   "cell_type": "markdown",
   "id": "533f1ce7",
   "metadata": {},
   "source": [
    "# Salary slip details"
   ]
  },
  {
   "cell_type": "code",
   "execution_count": 23,
   "id": "471ea02f",
   "metadata": {
    "scrolled": true
   },
   "outputs": [
    {
     "name": "stdout",
     "output_type": "stream",
     "text": [
      "saama\n",
      "\n",
      "SAAMA TECHNOLOGIES (INDIA) PRIVATE LIMITED\n",
      "\n",
      "IT-8 10th Floor, Blueridge Township,\n",
      "Near Rajiv Gandhi Infotech Park Phase-l,\n",
      "\n",
      "Hinjewadi\n",
      "Pune 411057\n",
      "\n",
      "Pay Slip for June 2023\n",
      "\n",
      "EmpNo 15112\n",
      "\n",
      "Name Shankar Gorakshanath Padawal\n",
      "Department —_ | Client Care - Delivery\n",
      "\n",
      "Role Sr. Software Engineer\n",
      "\n",
      "Level Ls\n",
      "\n",
      "Date of Joining |25-05-2023\n",
      "\n",
      "PAN DJTPP9256G\n",
      "\n",
      "Payable Days\n",
      "Bank A/c No\n",
      "P.F. No.\n",
      "\n",
      "UAN No.\n",
      "Location\n",
      "\n",
      "30\n",
      "6845283240\n",
      "\n",
      "PUNE SEZ UNIT\n",
      "\n",
      "Earning Current Month\n",
      "\n",
      "Basic 49,040.00)\n",
      "House Rent Allowance 24,520.00)\n",
      "(Other Fixed Allowance 46,681.00)\n",
      "Arrears-Basic 11,074.00\n",
      "Arrears-HRA 5,537.00\n",
      "/Ar-Other Fixed Allowance 10,541.00\n",
      "\n",
      "April-to-date\n",
      "Earnings\n",
      "49,040.00] Income Tax\n",
      "24,520.00 | Education Cess\n",
      "46,681.00|Provident Fund\n",
      "11,074.00| Profession Tax\n",
      "\n",
      "5,537.00|LWF\n",
      "10,541.00\n",
      "\n",
      "Deduction\n",
      "\n",
      "Current Month\n",
      "\n",
      "8,693.00\n",
      "348.00\n",
      "3,129.00\n",
      "200.00\n",
      "12.00\n",
      "\n",
      "April-to-date\n",
      "Deductions\n",
      "\n",
      "Total 147,393.00)\n",
      "\n",
      "147,393.00\n",
      "\n",
      "12,382.00]\n",
      "\n",
      "Net Pay: Rs. 135,011.00 | Rupees One Lakhs Thirty Five Thousand Eleven Only.\n",
      "\n",
      "\n"
     ]
    }
   ],
   "source": [
    "path = r\"C:\\Users\\GAURAV DOND\\AppData\\Local\\Programs\\Tesseract-OCR\\tesseract.exe\"\n",
    "file_path = r\"salary1.jpg\"  \n",
    "pytesseract.pytesseract.tesseract_cmd = path\n",
    "text = pytesseract.image_to_string(file_path)\n",
    "print(text)"
   ]
  },
  {
   "cell_type": "code",
   "execution_count": 24,
   "id": "53131ada",
   "metadata": {
    "scrolled": true
   },
   "outputs": [
    {
     "name": "stdout",
     "output_type": "stream",
     "text": [
      "saama\n",
      "SAAMA TECHNOLOGIES (INDIA) PRIVATE LIMITED\n",
      "IT-8 10th Floor, Blueridge Township,\n",
      "Near Rajiv Gandhi Infotech Park Phase-l,\n",
      "Hinjewadi\n",
      "Pune 411057\n",
      "Pay Slip for June 2023\n",
      "EmpNo 15112\n",
      "Name Shankar Gorakshanath Padawal\n",
      "Department —_ | Client Care - Delivery\n",
      "Role Sr. Software Engineer\n",
      "Level Ls\n",
      "Date of Joining |25-05-2023\n",
      "PAN DJTPP9256G\n",
      "Payable Days\n",
      "Bank A/c No\n",
      "P.F. No.\n",
      "UAN No.\n",
      "Location\n",
      "30\n",
      "6845283240\n",
      "PUNE SEZ UNIT\n",
      "Earning Current Month\n",
      "Basic 49,040.00)\n",
      "House Rent Allowance 24,520.00)\n",
      "(Other Fixed Allowance 46,681.00)\n",
      "Arrears-Basic 11,074.00\n",
      "Arrears-HRA 5,537.00\n",
      "/Ar-Other Fixed Allowance 10,541.00\n",
      "April-to-date\n",
      "Earnings\n",
      "49,040.00] Income Tax\n",
      "24,520.00 | Education Cess\n",
      "46,681.00|Provident Fund\n",
      "11,074.00| Profession Tax\n",
      "5,537.00|LWF\n",
      "10,541.00\n",
      "Deduction\n",
      "Current Month\n",
      "8,693.00\n",
      "348.00\n",
      "3,129.00\n",
      "200.00\n",
      "12.00\n",
      "April-to-date\n",
      "Deductions\n",
      "Total 147,393.00)\n",
      "147,393.00\n",
      "12,382.00]\n",
      "Net Pay: Rs. 135,011.00 | Rupees One Lakhs Thirty Five Thousand Eleven Only.\n",
      "\n"
     ]
    }
   ],
   "source": [
    "result3=re.sub(\"\\n+\",\"\\n\",text)\n",
    "print(result3)"
   ]
  },
  {
   "cell_type": "code",
   "execution_count": 25,
   "id": "7456ba74",
   "metadata": {},
   "outputs": [],
   "source": [
    "import re"
   ]
  },
  {
   "cell_type": "code",
   "execution_count": 26,
   "id": "b17710cd",
   "metadata": {},
   "outputs": [
    {
     "data": {
      "text/plain": [
       "<re.Match object; span=(195, 223), match='Shankar Gorakshanath Padawal'>"
      ]
     },
     "execution_count": 26,
     "metadata": {},
     "output_type": "execute_result"
    }
   ],
   "source": [
    "pattern_name = re.compile(\"[a-zA-Z]{7}\\s[a-zA-Z]{12}\\s[a-zA-Z]{7}\")\n",
    "pattern_name.search(text)"
   ]
  },
  {
   "cell_type": "code",
   "execution_count": 27,
   "id": "eebceb6a",
   "metadata": {},
   "outputs": [
    {
     "data": {
      "text/plain": [
       "<re.Match object; span=(183, 188), match='15112'>"
      ]
     },
     "execution_count": 27,
     "metadata": {},
     "output_type": "execute_result"
    }
   ],
   "source": [
    "pattern_e_id = re.compile(r\"\\b\\d{5}\\b\")\n",
    "pattern_e_id.search(text)"
   ]
  },
  {
   "cell_type": "code",
   "execution_count": 28,
   "id": "80d32307",
   "metadata": {},
   "outputs": [
    {
     "data": {
      "text/plain": [
       "<re.Match object; span=(403, 413), match='6845283240'>"
      ]
     },
     "execution_count": 28,
     "metadata": {},
     "output_type": "execute_result"
    }
   ],
   "source": [
    "pattern_a_no = re.compile(r\"\\d{10}\")\n",
    "pattern_a_no.search(text)"
   ]
  },
  {
   "cell_type": "code",
   "execution_count": 29,
   "id": "d0c5aac9",
   "metadata": {},
   "outputs": [
    {
     "data": {
      "text/plain": [
       "<re.Match object; span=(913, 923), match='135,011.00'>"
      ]
     },
     "execution_count": 29,
     "metadata": {},
     "output_type": "execute_result"
    }
   ],
   "source": [
    "pattern_net_pay = re.compile(r'135,011\\.00')\n",
    "pattern_net_pay.search(text)"
   ]
  },
  {
   "cell_type": "code",
   "execution_count": 30,
   "id": "1e0b6567",
   "metadata": {},
   "outputs": [
    {
     "data": {
      "text/plain": [
       "('Shankar Gorakshanath Padawal', '15112', '6845283240', '135,011.00')"
      ]
     },
     "execution_count": 30,
     "metadata": {},
     "output_type": "execute_result"
    }
   ],
   "source": [
    "def get_salary_details(text):\n",
    "\n",
    "    pattern_name = re.compile(\"[a-zA-Z]{7}\\s[a-zA-Z]{12}\\s[a-zA-Z]{7}\")\n",
    "    pattern_e_id = re.compile(r\"\\b\\d{5}\\b\")\n",
    "    pattern_acc_no = re.compile(r\"\\d{10}\")\n",
    "    pattern_net_pay = re.compile(r'135,011\\.00')\n",
    "\n",
    "    name = pattern_name.search(text).group()\n",
    "    e_id = pattern_e_id.search(text).group()\n",
    "    acc_no = pattern_acc_no.search(text).group()\n",
    "    net_pay = pattern_net_pay.search(text).group()\n",
    "\n",
    "    return name,e_id,acc_no,net_pay\n",
    "get_salary_details(text)"
   ]
  },
  {
   "cell_type": "code",
   "execution_count": 31,
   "id": "560dc293",
   "metadata": {},
   "outputs": [],
   "source": [
    "name,e_id,acc_no,net_pay = get_salary_details(text)"
   ]
  },
  {
   "cell_type": "code",
   "execution_count": 32,
   "id": "cd834878",
   "metadata": {},
   "outputs": [
    {
     "data": {
      "text/html": [
       "<div>\n",
       "<style scoped>\n",
       "    .dataframe tbody tr th:only-of-type {\n",
       "        vertical-align: middle;\n",
       "    }\n",
       "\n",
       "    .dataframe tbody tr th {\n",
       "        vertical-align: top;\n",
       "    }\n",
       "\n",
       "    .dataframe thead th {\n",
       "        text-align: right;\n",
       "    }\n",
       "</style>\n",
       "<table border=\"1\" class=\"dataframe\">\n",
       "  <thead>\n",
       "    <tr style=\"text-align: right;\">\n",
       "      <th></th>\n",
       "      <th>NAME</th>\n",
       "      <th>EMP ID</th>\n",
       "      <th>ACC NO</th>\n",
       "      <th>NET PAY</th>\n",
       "    </tr>\n",
       "  </thead>\n",
       "  <tbody>\n",
       "    <tr>\n",
       "      <th>0</th>\n",
       "      <td>Shankar Gorakshanath Padawal</td>\n",
       "      <td>15112</td>\n",
       "      <td>6845283240</td>\n",
       "      <td>135,011.00</td>\n",
       "    </tr>\n",
       "  </tbody>\n",
       "</table>\n",
       "</div>"
      ],
      "text/plain": [
       "                           NAME EMP ID      ACC NO     NET PAY\n",
       "0  Shankar Gorakshanath Padawal  15112  6845283240  135,011.00"
      ]
     },
     "execution_count": 32,
     "metadata": {},
     "output_type": "execute_result"
    }
   ],
   "source": [
    "dict1 = {\"NAME\":[None],\"EMP ID\":[None],\"ACC NO\":[None],\"NET PAY\":[None]}\n",
    "df = pd.DataFrame(dict1)\n",
    "df[\"NAME\"] = name\n",
    "df[\"EMP ID\"] = e_id\n",
    "df[\"ACC NO\"] = acc_no\n",
    "df[\"NET PAY\"] = net_pay\n",
    "df"
   ]
  },
  {
   "cell_type": "code",
   "execution_count": null,
   "id": "212ba04f",
   "metadata": {},
   "outputs": [],
   "source": []
  },
  {
   "cell_type": "markdown",
   "id": "1b937a57",
   "metadata": {},
   "source": [
    "# Project 2"
   ]
  },
  {
   "cell_type": "code",
   "execution_count": 33,
   "id": "fb00de09",
   "metadata": {},
   "outputs": [
    {
     "data": {
      "text/html": [
       "<div>\n",
       "<style scoped>\n",
       "    .dataframe tbody tr th:only-of-type {\n",
       "        vertical-align: middle;\n",
       "    }\n",
       "\n",
       "    .dataframe tbody tr th {\n",
       "        vertical-align: top;\n",
       "    }\n",
       "\n",
       "    .dataframe thead th {\n",
       "        text-align: right;\n",
       "    }\n",
       "</style>\n",
       "<table border=\"1\" class=\"dataframe\">\n",
       "  <thead>\n",
       "    <tr style=\"text-align: right;\">\n",
       "      <th></th>\n",
       "      <th>AADHAR NO</th>\n",
       "      <th>PAN NO</th>\n",
       "      <th>DOB</th>\n",
       "      <th>NAME</th>\n",
       "      <th>EMP ID</th>\n",
       "      <th>ACC NO</th>\n",
       "      <th>NET PAY</th>\n",
       "    </tr>\n",
       "  </thead>\n",
       "  <tbody>\n",
       "    <tr>\n",
       "      <th>0</th>\n",
       "      <td>None</td>\n",
       "      <td>None</td>\n",
       "      <td>None</td>\n",
       "      <td>None</td>\n",
       "      <td>None</td>\n",
       "      <td>None</td>\n",
       "      <td>None</td>\n",
       "    </tr>\n",
       "  </tbody>\n",
       "</table>\n",
       "</div>"
      ],
      "text/plain": [
       "  AADHAR NO PAN NO   DOB  NAME EMP ID ACC NO NET PAY\n",
       "0      None   None  None  None   None   None    None"
      ]
     },
     "execution_count": 33,
     "metadata": {},
     "output_type": "execute_result"
    }
   ],
   "source": [
    "dict1 = {\"AADHAR NO\":[None], \"PAN NO\":[None],\"DOB\":[None],\"NAME\":[None],\"EMP ID\":[None],\"ACC NO\":[None],\"NET PAY\":[None]}\n",
    "df = pd.DataFrame(dict1)\n",
    "df"
   ]
  },
  {
   "cell_type": "code",
   "execution_count": 36,
   "id": "c6b8449d",
   "metadata": {
    "scrolled": true
   },
   "outputs": [
    {
     "data": {
      "text/html": [
       "<div>\n",
       "<style scoped>\n",
       "    .dataframe tbody tr th:only-of-type {\n",
       "        vertical-align: middle;\n",
       "    }\n",
       "\n",
       "    .dataframe tbody tr th {\n",
       "        vertical-align: top;\n",
       "    }\n",
       "\n",
       "    .dataframe thead th {\n",
       "        text-align: right;\n",
       "    }\n",
       "</style>\n",
       "<table border=\"1\" class=\"dataframe\">\n",
       "  <thead>\n",
       "    <tr style=\"text-align: right;\">\n",
       "      <th></th>\n",
       "      <th>AADHAR NO</th>\n",
       "      <th>PAN NO</th>\n",
       "      <th>DOB</th>\n",
       "      <th>NAME</th>\n",
       "      <th>EMP ID</th>\n",
       "      <th>ACC NO</th>\n",
       "      <th>NET PAY</th>\n",
       "    </tr>\n",
       "  </thead>\n",
       "  <tbody>\n",
       "    <tr>\n",
       "      <th>0</th>\n",
       "      <td>6295 5497 9356</td>\n",
       "      <td>ABCDE1234F</td>\n",
       "      <td>23/11/1974</td>\n",
       "      <td>Shankar Gorakshanath Padawal</td>\n",
       "      <td>15112</td>\n",
       "      <td>6845283240</td>\n",
       "      <td>135,011.00</td>\n",
       "    </tr>\n",
       "  </tbody>\n",
       "</table>\n",
       "</div>"
      ],
      "text/plain": [
       "        AADHAR NO      PAN NO         DOB                          NAME  \\\n",
       "0  6295 5497 9356  ABCDE1234F  23/11/1974  Shankar Gorakshanath Padawal   \n",
       "\n",
       "  EMP ID      ACC NO     NET PAY  \n",
       "0  15112  6845283240  135,011.00  "
      ]
     },
     "execution_count": 36,
     "metadata": {},
     "output_type": "execute_result"
    }
   ],
   "source": [
    "dict1 = {\"AADHAR NO\":[None],\n",
    "         \"PAN NO\":[None],\n",
    "         \"DOB\":[None],\n",
    "         \"NAME\":[None],\n",
    "         \"EMP ID\":[None],\n",
    "         \"ACC NO\":[None],\n",
    "         \"NET PAY\":[None]}\n",
    "df = pd.DataFrame(dict1)\n",
    "df[\"AADHAR NO\"] = aadhar_no\n",
    "df[\"PAN NO\"] = pan_no\n",
    "df[\"DOB\"] = dob\n",
    "df[\"NAME\"] = name\n",
    "df[\"EMP ID\"] = e_id\n",
    "df[\"ACC NO\"] = acc_no\n",
    "df[\"NET PAY\"] = net_pay\n",
    "df"
   ]
  },
  {
   "cell_type": "code",
   "execution_count": 37,
   "id": "989e5046",
   "metadata": {},
   "outputs": [],
   "source": [
    "df.to_csv(\"Vehicle_doc.csv\",index=False)"
   ]
  },
  {
   "cell_type": "markdown",
   "id": "81561a4e",
   "metadata": {},
   "source": [
    "# Thank you!"
   ]
  },
  {
   "cell_type": "code",
   "execution_count": null,
   "id": "8a81a8dc",
   "metadata": {},
   "outputs": [],
   "source": []
  }
 ],
 "metadata": {
  "kernelspec": {
   "display_name": "Python 3 (ipykernel)",
   "language": "python",
   "name": "python3"
  },
  "language_info": {
   "codemirror_mode": {
    "name": "ipython",
    "version": 3
   },
   "file_extension": ".py",
   "mimetype": "text/x-python",
   "name": "python",
   "nbconvert_exporter": "python",
   "pygments_lexer": "ipython3",
   "version": "3.9.7"
  }
 },
 "nbformat": 4,
 "nbformat_minor": 5
}
